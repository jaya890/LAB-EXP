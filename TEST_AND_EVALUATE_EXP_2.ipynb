{
  "nbformat": 4,
  "nbformat_minor": 0,
  "metadata": {
    "colab": {
      "provenance": [],
      "authorship_tag": "ABX9TyPZiq+boMHJ70RGDWbhIdg+",
      "include_colab_link": true
    },
    "kernelspec": {
      "name": "python3",
      "display_name": "Python 3"
    },
    "language_info": {
      "name": "python"
    }
  },
  "cells": [
    {
      "cell_type": "markdown",
      "metadata": {
        "id": "view-in-github",
        "colab_type": "text"
      },
      "source": [
        "<a href=\"https://colab.research.google.com/github/jaya890/LAB-EXP/blob/main/TEST_AND_EVALUATE_EXP_2.ipynb\" target=\"_parent\"><img src=\"https://colab.research.google.com/assets/colab-badge.svg\" alt=\"Open In Colab\"/></a>"
      ]
    },
    {
      "cell_type": "code",
      "execution_count": 1,
      "metadata": {
        "colab": {
          "base_uri": "https://localhost:8080/"
        },
        "id": "Jx6EKYsLfoMO",
        "outputId": "98626614-d2cc-4ef0-9726-005e47feaf47"
      },
      "outputs": [
        {
          "output_type": "stream",
          "name": "stdout",
          "text": [
            "Downloading data from https://storage.googleapis.com/tensorflow/tf-keras-datasets/mnist.npz\n",
            "11490434/11490434 [==============================] - 0s 0us/step\n",
            "Epoch 1/5\n",
            "1500/1500 [==============================] - 13s 8ms/step - loss: 0.2716 - accuracy: 0.9209 - val_loss: 0.1359 - val_accuracy: 0.9601\n",
            "Epoch 2/5\n",
            "1500/1500 [==============================] - 7s 4ms/step - loss: 0.1122 - accuracy: 0.9658 - val_loss: 0.1147 - val_accuracy: 0.9668\n",
            "Epoch 3/5\n",
            "1500/1500 [==============================] - 7s 4ms/step - loss: 0.0775 - accuracy: 0.9760 - val_loss: 0.1168 - val_accuracy: 0.9658\n",
            "Epoch 4/5\n",
            "1500/1500 [==============================] - 6s 4ms/step - loss: 0.0581 - accuracy: 0.9814 - val_loss: 0.0956 - val_accuracy: 0.9719\n",
            "Epoch 5/5\n",
            "1500/1500 [==============================] - 7s 5ms/step - loss: 0.0452 - accuracy: 0.9855 - val_loss: 0.0998 - val_accuracy: 0.9722\n",
            "313/313 [==============================] - 1s 2ms/step - loss: 0.0841 - accuracy: 0.9752\n"
          ]
        }
      ],
      "source": [
        "import tensorflow as tf\n",
        "from tensorflow.keras.datasets import mnist\n",
        "from tensorflow.keras.models import Sequential\n",
        "from tensorflow.keras.layers import Dense, Flatten\n",
        "from tensorflow.keras.utils import to_categorical\n",
        "# Load and preprocess the MNIST dataset\n",
        "(x_train, y_train), (x_test, y_test) = mnist.load_data()\n",
        "x_train, x_test = x_train / 255.0, x_test / 255.0\n",
        "y_train, y_test = to_categorical(y_train, 10), to_categorical(y_test,\n",
        "10)\n",
        "model = Sequential([\n",
        "Flatten(input_shape=(28, 28)),\n",
        "Dense(128, activation='relu'),\n",
        "Dense(64, activation='relu'),\n",
        "Dense(10, activation='softmax')\n",
        "])\n",
        "model.compile(optimizer='adam',loss='categorical_crossentropy',metrics=\n",
        "['accuracy'])\n",
        "model.fit(x_train, y_train, epochs=5, batch_size=32,\n",
        "validation_split=0.2)\n",
        "test_loss, test_accuracy = model.evaluate(x_test, y_test)"
      ]
    }
  ]
}