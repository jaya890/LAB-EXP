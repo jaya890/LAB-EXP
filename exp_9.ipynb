{
  "nbformat": 4,
  "nbformat_minor": 0,
  "metadata": {
    "colab": {
      "provenance": [],
      "authorship_tag": "ABX9TyMLuBEtDPadbMZgo+c3gKhJ",
      "include_colab_link": true
    },
    "kernelspec": {
      "name": "python3",
      "display_name": "Python 3"
    },
    "language_info": {
      "name": "python"
    }
  },
  "cells": [
    {
      "cell_type": "markdown",
      "metadata": {
        "id": "view-in-github",
        "colab_type": "text"
      },
      "source": [
        "<a href=\"https://colab.research.google.com/github/jaya890/LAB-EXP/blob/main/exp_9.ipynb\" target=\"_parent\"><img src=\"https://colab.research.google.com/assets/colab-badge.svg\" alt=\"Open In Colab\"/></a>"
      ]
    },
    {
      "cell_type": "code",
      "execution_count": 1,
      "metadata": {
        "colab": {
          "base_uri": "https://localhost:8080/"
        },
        "id": "h1rleRASlxSF",
        "outputId": "c24d5c32-fdf0-4607-d355-63d7e46eedc9"
      },
      "outputs": [
        {
          "output_type": "stream",
          "name": "stdout",
          "text": [
            "Downloading data from https://storage.googleapis.com/tensorflow/tf-keras-datasets/mnist.npz\n",
            "11490434/11490434 [==============================] - 0s 0us/step\n",
            "Epoch 1/10\n",
            "300/300 - 47s - loss: 0.3562 - accuracy: 0.8917 - val_loss: 0.0632 - val_accuracy: 0.9778 - 47s/epoch - 158ms/step\n",
            "Epoch 2/10\n",
            "300/300 - 39s - loss: 0.1032 - accuracy: 0.9696 - val_loss: 0.0409 - val_accuracy: 0.9869 - 39s/epoch - 132ms/step\n",
            "Epoch 3/10\n",
            "300/300 - 40s - loss: 0.0753 - accuracy: 0.9782 - val_loss: 0.0302 - val_accuracy: 0.9902 - 40s/epoch - 133ms/step\n",
            "Epoch 4/10\n",
            "300/300 - 39s - loss: 0.0615 - accuracy: 0.9812 - val_loss: 0.0290 - val_accuracy: 0.9907 - 39s/epoch - 131ms/step\n",
            "Epoch 5/10\n",
            "300/300 - 38s - loss: 0.0522 - accuracy: 0.9843 - val_loss: 0.0295 - val_accuracy: 0.9891 - 38s/epoch - 128ms/step\n",
            "Epoch 6/10\n",
            "300/300 - 39s - loss: 0.0464 - accuracy: 0.9858 - val_loss: 0.0273 - val_accuracy: 0.9912 - 39s/epoch - 132ms/step\n",
            "Epoch 7/10\n",
            "300/300 - 39s - loss: 0.0396 - accuracy: 0.9879 - val_loss: 0.0266 - val_accuracy: 0.9913 - 39s/epoch - 131ms/step\n",
            "Epoch 8/10\n",
            "300/300 - 40s - loss: 0.0369 - accuracy: 0.9886 - val_loss: 0.0240 - val_accuracy: 0.9922 - 40s/epoch - 132ms/step\n",
            "Epoch 9/10\n",
            "300/300 - 39s - loss: 0.0321 - accuracy: 0.9904 - val_loss: 0.0250 - val_accuracy: 0.9913 - 39s/epoch - 131ms/step\n",
            "Epoch 10/10\n",
            "300/300 - 39s - loss: 0.0305 - accuracy: 0.9905 - val_loss: 0.0215 - val_accuracy: 0.9930 - 39s/epoch - 129ms/step\n",
            "Test accuracy: 99.30%\n"
          ]
        }
      ],
      "source": [
        "import tensorflow as tf\n",
        "from tensorflow.keras.datasets import mnist\n",
        "from tensorflow.keras.models import Sequential\n",
        "from tensorflow.keras.layers import Conv2D, MaxPooling2D, Flatten, Dense, Dropout\n",
        "from tensorflow.keras.utils import to_categorical\n",
        "# Load and preprocess the dataset\n",
        "(x_train, y_train), (x_test, y_test) = mnist.load_data()\n",
        "x_train = x_train.reshape(x_train.shape[0], 28, 28, 1).astype('float32') / 255\n",
        "x_test = x_test.reshape(x_test.shape[0], 28, 28, 1).astype('float32') / 255\n",
        "y_train = to_categorical(y_train, 10)\n",
        "y_test = to_categorical(y_test, 10)\n",
        "# Build the CNN model\n",
        "model = Sequential()\n",
        "model.add(Conv2D(32, kernel_size=(3, 3), activation='relu',\n",
        "input_shape=(28, 28, 1)))\n",
        "model.add(MaxPooling2D(pool_size=(2, 2)))\n",
        "model.add(Conv2D(64, kernel_size=(3, 3), activation='relu'))\n",
        "model.add(MaxPooling2D(pool_size=(2, 2)))\n",
        "model.add(Flatten())\n",
        "model.add(Dense(128, activation='relu'))\n",
        "model.add(Dropout(0.5))\n",
        "model.add(Dense(10, activation='softmax'))\n",
        "# Compile the model\n",
        "model.compile(loss='categorical_crossentropy', optimizer='adam',\n",
        "metrics=['accuracy'])\n",
        "# Train the model\n",
        "model.fit(x_train, y_train, validation_data=(x_test, y_test), epochs=10,\n",
        "batch_size=200, verbose=2)\n",
        "# Evaluate the model\n",
        "test_loss, test_acc = model.evaluate(x_test, y_test, verbose=0)\n",
        "print(f'Test accuracy: {test_acc*100:.2f}%')"
      ]
    }
  ]
}